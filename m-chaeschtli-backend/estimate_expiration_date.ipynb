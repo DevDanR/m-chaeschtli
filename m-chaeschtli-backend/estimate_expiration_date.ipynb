{
 "cells": [
  {
   "cell_type": "code",
   "execution_count": 55,
   "id": "f3b77021-2b78-40bb-83d7-b5ecaa2af23c",
   "metadata": {},
   "outputs": [],
   "source": [
    "from db_operations import MigrosDb\n",
    "import pandas as pd\n",
    "import json\n",
    "from difflib import SequenceMatcher\n",
    "from tqdm import tqdm\n",
    "import numpy as np"
   ]
  },
  {
   "cell_type": "code",
   "execution_count": 56,
   "id": "06388bdd-e536-45f5-918f-b0b7b43216b3",
   "metadata": {},
   "outputs": [
    {
     "name": "stdout",
     "output_type": "stream",
     "text": [
      "Checking files to extract:\n",
      "['Dimension_circularity.csv', 'Fisch.csv', 'Fish_New.csv', 'M-Check_packaging.csv', 'openapi.yaml']\n",
      "\n"
     ]
    },
    {
     "name": "stderr",
     "output_type": "stream",
     "text": [
      "100%|███████████████████████████████████████████████████████████████████████████████████████████████████████████████████| 5/5 [00:00<00:00, 300.51it/s]\n"
     ]
    },
    {
     "name": "stdout",
     "output_type": "stream",
     "text": [
      "Checking files to extract:\n",
      "['products_de.7z', 'products_en.7z', 'products_README.md']\n",
      "\n"
     ]
    },
    {
     "name": "stderr",
     "output_type": "stream",
     "text": [
      "100%|██████████████████████████████████████████████████████████████████████████████████████████████████████████████████| 3/3 [00:00<00:00, 1418.27it/s]\n"
     ]
    },
    {
     "name": "stdout",
     "output_type": "stream",
     "text": [
      "Checking files to extract:\n",
      "['trx_202202.7z', 'trx_202203.7z', 'trx_202204.7z', 'trx_202205.7z', 'trx_202206.7z', 'trx_202207.7z', 'trx_202208.7z', 'trx_202209.7z', 'trx_202210.7z', 'trx_202211.7z', 'trx_202212.7z', 'trx_202301.7z', 'trx_202302.7z', 'trx_202303.7z', 'trx_202304.7z', 'trx_202305.7z', 'trx_202306.7z', 'trx_202307.7z', 'trx_202308.7z', 'trx_202309.7z']\n",
      "\n"
     ]
    },
    {
     "name": "stderr",
     "output_type": "stream",
     "text": [
      "100%|███████████████████████████████████████████████████████████████████████████████████████████████████████████████| 20/20 [00:00<00:00, 11608.92it/s]\n"
     ]
    },
    {
     "name": "stdout",
     "output_type": "stream",
     "text": [
      "Loading products\n",
      "\n"
     ]
    },
    {
     "name": "stderr",
     "output_type": "stream",
     "text": [
      "100%|████████████████████████████████████████████████████████████████████████████████████████████████████████████| 2000/2000 [00:01<00:00, 1194.48it/s]\n"
     ]
    },
    {
     "name": "stdout",
     "output_type": "stream",
     "text": [
      "Checking files to extract:\n",
      "['Dimension_circularity.csv', 'Fisch.csv', 'Fish_New.csv', 'M-Check_packaging.csv', 'openapi.yaml']\n",
      "\n"
     ]
    },
    {
     "name": "stderr",
     "output_type": "stream",
     "text": [
      "100%|███████████████████████████████████████████████████████████████████████████████████████████████████████████████████| 5/5 [00:00<00:00, 308.33it/s]\n"
     ]
    },
    {
     "name": "stdout",
     "output_type": "stream",
     "text": [
      "Checking files to extract:\n",
      "['products_de.7z', 'products_en.7z', 'products_README.md']\n",
      "\n"
     ]
    },
    {
     "name": "stderr",
     "output_type": "stream",
     "text": [
      "100%|██████████████████████████████████████████████████████████████████████████████████████████████████████████████████| 3/3 [00:00<00:00, 1621.09it/s]\n"
     ]
    },
    {
     "name": "stdout",
     "output_type": "stream",
     "text": [
      "Checking files to extract:\n",
      "['trx_202202.7z', 'trx_202203.7z', 'trx_202204.7z', 'trx_202205.7z', 'trx_202206.7z', 'trx_202207.7z', 'trx_202208.7z', 'trx_202209.7z', 'trx_202210.7z', 'trx_202211.7z', 'trx_202212.7z', 'trx_202301.7z', 'trx_202302.7z', 'trx_202303.7z', 'trx_202304.7z', 'trx_202305.7z', 'trx_202306.7z', 'trx_202307.7z', 'trx_202308.7z', 'trx_202309.7z']\n",
      "\n"
     ]
    },
    {
     "name": "stderr",
     "output_type": "stream",
     "text": [
      "100%|██████████████████████████████████████████████████████████████████████████████████████████████████████████████████████████| 20/20 [00:00<?, ?it/s]\n"
     ]
    },
    {
     "name": "stdout",
     "output_type": "stream",
     "text": [
      "Loading shopping carts\n",
      "\n"
     ]
    },
    {
     "name": "stderr",
     "output_type": "stream",
     "text": [
      "100%|████████████████████████████████████████████████████████████████████████████████████████████████████████████████████| 5/5 [00:10<00:00,  2.06s/it]\n"
     ]
    }
   ],
   "source": [
    "migros_db = MigrosDb()"
   ]
  },
  {
   "cell_type": "code",
   "execution_count": 57,
   "id": "0d54e2cd-bb6b-4699-840e-055d759a8774",
   "metadata": {},
   "outputs": [],
   "source": [
    "customer_id = 100007\n",
    "# products = migros_db.get_purchased_articles_of_customer(customer_id)\n",
    "products = migros_db.product_db.products\n",
    "products_short = [{'name': p['name'], \\\n",
    "               'id': p['id'], \\\n",
    "               'keepability': '###'} for p in products]"
   ]
  },
  {
   "cell_type": "code",
   "execution_count": 58,
   "id": "d82941ab-2b10-4ffe-9faf-74bdb9621f8f",
   "metadata": {},
   "outputs": [],
   "source": [
    "df = pd.DataFrame.from_records(products_short)\n",
    "products_short_dict = df.drop_duplicates().to_json(orient=\"records\")"
   ]
  },
  {
   "cell_type": "code",
   "execution_count": 5,
   "id": "7a8549fe-eda6-431b-a9de-9fb68b8f6608",
   "metadata": {},
   "outputs": [],
   "source": [
    "with open(\"estimated_keepability_new.json\", \"w\") as outfile:\n",
    "    outfile.write(json.dumps(products_short))"
   ]
  },
  {
   "cell_type": "code",
   "execution_count": null,
   "id": "d54a8985-4819-4977-bf20-64c3d7c41bbb",
   "metadata": {},
   "outputs": [],
   "source": [
    "with open(\"estimated_keepability.json\", \"r\") as fp:\n",
    "    products_short = json.load(fp)\n"
   ]
  },
  {
   "cell_type": "code",
   "execution_count": null,
   "id": "138fb6be-6c7a-4112-b7d8-9e06807e1d63",
   "metadata": {},
   "outputs": [],
   "source": [
    "df = pd.DataFrame.from_records([p['categeories'] for p in products])"
   ]
  },
  {
   "cell_type": "code",
   "execution_count": 50,
   "id": "09358f43-dd9c-410a-be67-e33a2e9e93a9",
   "metadata": {},
   "outputs": [
    {
     "name": "stderr",
     "output_type": "stream",
     "text": [
      "C:\\Users\\riebend\\AppData\\Local\\Temp\\ipykernel_16756\\595863919.py:4: DeprecationWarning: This function is deprecated. Please call randint(1, 365 + 1) instead\n",
      "  keepability_value = int(np.random.random_integers(low=1, high=365))\n",
      "C:\\Users\\riebend\\AppData\\Local\\Temp\\ipykernel_16756\\595863919.py:9: DeprecationWarning: This function is deprecated. Please call randint(1, 365 + 1) instead\n",
      "  keepability_value = int(np.random.random_integers(low=1, high=365))\n"
     ]
    },
    {
     "name": "stdout",
     "output_type": "stream",
     "text": [
      "39042\n"
     ]
    }
   ],
   "source": [
    "\n",
    "def similar(a, b):\n",
    "    return SequenceMatcher(None, a, b).ratio()\n",
    "\n",
    "keepability_value = int(np.random.random_integers(low=1, high=365))\n",
    "products[0]['keepability'] = keepability_value\n",
    "for k in range(1, len(products)):\n",
    "    sim = similar(products[k-1]['name'], products[k]['name'])    \n",
    "    if sim < 0.1:        \n",
    "        keepability_value = int(np.random.random_integers(low=1, high=365))\n",
    "    products[k]['keepability'] = keepability_value\n",
    "    # print(sim, \" \", products[k-1]['name'], \" \", products[k]['name'])\n",
    "    \n",
    "print(len(products))"
   ]
  },
  {
   "cell_type": "code",
   "execution_count": 52,
   "id": "e7f5d385-6a3c-48a5-b6fe-1e786fa3a5ae",
   "metadata": {},
   "outputs": [],
   "source": [
    "products_short = [{'name': p['name'], \\\n",
    "               'id': p['id'], \\\n",
    "               'keepability': p['keepability']} for p in products]\n",
    "\n",
    "with open(\"products_with_keepability_new.json\", \"w\") as outfile:\n",
    "    outfile.write(json.dumps(products))"
   ]
  },
  {
   "cell_type": "code",
   "execution_count": 49,
   "id": "4771ebf6-25ee-451a-8d88-149073a78d57",
   "metadata": {},
   "outputs": [
    {
     "name": "stderr",
     "output_type": "stream",
     "text": [
      "C:\\Users\\riebend\\AppData\\Local\\Temp\\ipykernel_16756\\1276840060.py:1: DeprecationWarning: This function is deprecated. Please call randint(1, 365 + 1) instead\n",
      "  int(np.random.random_integers(low=1, high=365))\n"
     ]
    },
    {
     "data": {
      "text/plain": [
       "311"
      ]
     },
     "execution_count": 49,
     "metadata": {},
     "output_type": "execute_result"
    }
   ],
   "source": [
    "int(np.random.random_integers(low=1, high=365))"
   ]
  },
  {
   "cell_type": "code",
   "execution_count": 90,
   "id": "99ae9b44-8098-465b-9fa8-ef4dee27a026",
   "metadata": {},
   "outputs": [
    {
     "data": {
      "text/plain": [
       "2.5958354976613514"
      ]
     },
     "execution_count": 90,
     "metadata": {},
     "output_type": "execute_result"
    }
   ],
   "source": [
    "co2_footprints = [p.get('m_check2', None) for p in products]\n",
    "\n",
    "\n",
    "co2_footprints_filt = list(filter(lambda v: v is not None, co2_footprints))\n",
    "co2_footprints_filt = list(filter(lambda v: v.get('carbon_footprint', None) is not None, co2_footprints_filt))\n",
    "co2_footprints_filt = [p['carbon_footprint'] for p in co2_footprints_filt]\n",
    "co2_footprints_filt = list(filter(lambda v: v.get('ground_and_sea_cargo', None) is not None, co2_footprints_filt))\n",
    "co2_footprints_filt = [p['ground_and_sea_cargo'] for p in co2_footprints_filt]\n",
    "co2_footprints_filt = list(filter(lambda v: v.get('kg_co2', None) is not None, co2_footprints_filt))\n",
    "co2_footprints_filt = [p['kg_co2'] for p in co2_footprints_filt]\n",
    "#co2_footprints\n",
    "#co2_footprints_filt\n",
    "np.mean(co2_footprints_filt)\n",
    "#[p['carbon_footprint']['ground_and_sea_cargo']['kg_co2'] for p in co2_footprints_filt]"
   ]
  }
 ],
 "metadata": {
  "kernelspec": {
   "display_name": "Python 3 (ipykernel)",
   "language": "python",
   "name": "python3"
  },
  "language_info": {
   "codemirror_mode": {
    "name": "ipython",
    "version": 3
   },
   "file_extension": ".py",
   "mimetype": "text/x-python",
   "name": "python",
   "nbconvert_exporter": "python",
   "pygments_lexer": "ipython3",
   "version": "3.11.5"
  }
 },
 "nbformat": 4,
 "nbformat_minor": 5
}
